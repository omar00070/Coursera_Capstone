{
 "cells": [
  {
   "cell_type": "markdown",
   "metadata": {},
   "source": [
    "\n",
    "Collision Severity in Seattle¶\n",
    "Business Understanding\n",
    "From January 2004 to May of 2020, there have been over 190 thousand recorded cases of collisions in Seattle alone. These include various types of vehicles such as Cars, Trucks, Motorcycles, Bicycles, and others.\n",
    "\n",
    "In 2016 alone, the total number of road traffic deaths is estimated at 1.35 million and almost half of these deaths are coming from those with the least protection such as motorcyclists, cyclists, and pedestrians. At a global scope, road traffic injuries and crashes are estimated to be the eighth leading cause of death across all ages.\n",
    "\n",
    "This analysis aims to determine the factors or attributes that might be contributing to these accidents and their severity level. This will help the Seattle residents to be aware of the attributes which may lead to accidents related to road accidents and how they can adjust or prepare once we know the attributes that may increase the risk of these accidents.\n",
    "\n",
    "Source: https://www.who.int/gho/road_safety/mortality/en/\n",
    "Data Understanding\n",
    "The data to be used for this analysis is from the Traffic Records Group of the Seattle Department of Transportation, Traffic Management Division. This includes all types of collisions at the intersections and mid-blocks of a segment from January 2004 to May 2020.\n",
    "\n",
    "The attributes to be used to determine the severity of the accidents are Weather, Road Condition, Light Condition, and whether the drivers are Under the Influence of Drugs or Alcohol.\n",
    "\n",
    "The dependent variable for this analysis is the SEVERITYCODE with two possible values:\n",
    "\n",
    "• 1 – Property Damage Only Collision\n",
    "• 2 – Injury Collision\n",
    "\n",
    "The independent variables for this analysis to classify and determine the severity of the accidents are the following:\n",
    "\n",
    "• WEATHER – Weather condition during the time of the collision. WEATHER will have four classifications: Clear</i>, Raining</i>, Overcast</i>, and all other weather conditions (except Unknown) shall be grouped under Others</i>.\n",
    "• ROADCOND – Condition of the road during the collision. ROADCOND will have three classifications: Dry</i>, Wet</i>, and all other road conditions (except Unknown) shall be grouped under Others</i>.\n",
    "• LIGHTCOND – Light condition during the collision. LIGHTCOND will have three classifications: Daylight</i>, Dark with Street Lights On</i>, and all other conditions shall be grouped under Others</i>.\n",
    "• UNDERINFL – Whether the driver of the vehicle was under the influence of drugs or alcohol.\n",
    "\n",
    "These attributes are selected as the data has a lot of null and unknown values for the other attributes and these four attributes have a minimal number of unusable data.\n",
    "\n",
    "Importing libraries to be used in the analysis\n",
    "For this analysis, Pandas, Numpy, Matplotlib, Seaborn, Preprocessing and Sklearn libraries will be used for data processing, exploratory data analysis, visualization and modeling.\n",
    "\n",
    "\n"
   ]
  },
  {
   "cell_type": "code",
   "execution_count": 2,
   "metadata": {},
   "outputs": [
    {
     "name": "stdout",
     "output_type": "stream",
     "text": [
      "Collecting preprocessing\n",
      "  Downloading preprocessing-0.1.13-py3-none-any.whl (349 kB)\n",
      "\u001b[K     |████████████████████████████████| 349 kB 4.9 MB/s eta 0:00:01\n",
      "\u001b[?25hCollecting nltk==3.2.4\n",
      "  Downloading nltk-3.2.4.tar.gz (1.2 MB)\n",
      "\u001b[K     |████████████████████████████████| 1.2 MB 4.5 MB/s eta 0:00:01\n",
      "\u001b[?25hCollecting sphinx-rtd-theme==0.2.4\n",
      "  Downloading sphinx_rtd_theme-0.2.4-py2.py3-none-any.whl (1.4 MB)\n",
      "\u001b[K     |████████████████████████████████| 1.4 MB 2.3 MB/s eta 0:00:01\n",
      "\u001b[?25hRequirement already satisfied: six in /home/omars/.local/lib/python3.8/site-packages (from nltk==3.2.4->preprocessing) (1.13.0)\n",
      "Building wheels for collected packages: nltk\n",
      "  Building wheel for nltk (setup.py) ... \u001b[?25ldone\n",
      "\u001b[?25h  Created wheel for nltk: filename=nltk-3.2.4-py3-none-any.whl size=1367704 sha256=ef12a18e7728eee785d095f7f3fc8df8424a3b1f085fd585d2086531e5b35785\n",
      "  Stored in directory: /home/omars/.cache/pip/wheels/d9/37/86/b5270b826e4b542bd6791005300c9d3864059901c7efc03545\n",
      "Successfully built nltk\n",
      "Installing collected packages: nltk, sphinx-rtd-theme, preprocessing\n",
      "Successfully installed nltk-3.2.4 preprocessing-0.1.13 sphinx-rtd-theme-0.2.4\n"
     ]
    }
   ],
   "source": [
    "!pip3 install preprocessing\n",
    "import pandas as pd\n",
    "import numpy as np\n",
    "import matplotlib.pyplot as plt\n",
    "import seaborn as sns\n",
    "%matplotlib inline\n",
    "import preprocessing\n",
    "from sklearn.neighbors import KNeighborsClassifier\n",
    "from sklearn.tree import DecisionTreeClassifier\n",
    "from sklearn.linear_model import LogisticRegression\n",
    "from sklearn import preprocessing\n",
    "from sklearn.metrics import f1_score, jaccard_score, log_loss, confusion_matrix\n"
   ]
  },
  {
   "cell_type": "code",
   "execution_count": 5,
   "metadata": {},
   "outputs": [
    {
     "name": "stderr",
     "output_type": "stream",
     "text": [
      "/home/omars/.local/lib/python3.8/site-packages/IPython/core/interactiveshell.py:3145: DtypeWarning: Columns (33) have mixed types.Specify dtype option on import or set low_memory=False.\n",
      "  has_raised = await self.run_ast_nodes(code_ast.body, cell_name,\n"
     ]
    },
    {
     "data": {
      "text/html": [
       "<div>\n",
       "<style scoped>\n",
       "    .dataframe tbody tr th:only-of-type {\n",
       "        vertical-align: middle;\n",
       "    }\n",
       "\n",
       "    .dataframe tbody tr th {\n",
       "        vertical-align: top;\n",
       "    }\n",
       "\n",
       "    .dataframe thead th {\n",
       "        text-align: right;\n",
       "    }\n",
       "</style>\n",
       "<table border=\"1\" class=\"dataframe\">\n",
       "  <thead>\n",
       "    <tr style=\"text-align: right;\">\n",
       "      <th></th>\n",
       "      <th>SEVERITYCODE</th>\n",
       "      <th>X</th>\n",
       "      <th>Y</th>\n",
       "      <th>OBJECTID</th>\n",
       "      <th>INCKEY</th>\n",
       "      <th>COLDETKEY</th>\n",
       "      <th>REPORTNO</th>\n",
       "      <th>STATUS</th>\n",
       "      <th>ADDRTYPE</th>\n",
       "      <th>INTKEY</th>\n",
       "      <th>...</th>\n",
       "      <th>ROADCOND</th>\n",
       "      <th>LIGHTCOND</th>\n",
       "      <th>PEDROWNOTGRNT</th>\n",
       "      <th>SDOTCOLNUM</th>\n",
       "      <th>SPEEDING</th>\n",
       "      <th>ST_COLCODE</th>\n",
       "      <th>ST_COLDESC</th>\n",
       "      <th>SEGLANEKEY</th>\n",
       "      <th>CROSSWALKKEY</th>\n",
       "      <th>HITPARKEDCAR</th>\n",
       "    </tr>\n",
       "  </thead>\n",
       "  <tbody>\n",
       "    <tr>\n",
       "      <th>0</th>\n",
       "      <td>2</td>\n",
       "      <td>-122.323148</td>\n",
       "      <td>47.703140</td>\n",
       "      <td>1</td>\n",
       "      <td>1307</td>\n",
       "      <td>1307</td>\n",
       "      <td>3502005</td>\n",
       "      <td>Matched</td>\n",
       "      <td>Intersection</td>\n",
       "      <td>37475.0</td>\n",
       "      <td>...</td>\n",
       "      <td>Wet</td>\n",
       "      <td>Daylight</td>\n",
       "      <td>NaN</td>\n",
       "      <td>NaN</td>\n",
       "      <td>NaN</td>\n",
       "      <td>10</td>\n",
       "      <td>Entering at angle</td>\n",
       "      <td>0</td>\n",
       "      <td>0</td>\n",
       "      <td>N</td>\n",
       "    </tr>\n",
       "    <tr>\n",
       "      <th>1</th>\n",
       "      <td>1</td>\n",
       "      <td>-122.347294</td>\n",
       "      <td>47.647172</td>\n",
       "      <td>2</td>\n",
       "      <td>52200</td>\n",
       "      <td>52200</td>\n",
       "      <td>2607959</td>\n",
       "      <td>Matched</td>\n",
       "      <td>Block</td>\n",
       "      <td>NaN</td>\n",
       "      <td>...</td>\n",
       "      <td>Wet</td>\n",
       "      <td>Dark - Street Lights On</td>\n",
       "      <td>NaN</td>\n",
       "      <td>6354039.0</td>\n",
       "      <td>NaN</td>\n",
       "      <td>11</td>\n",
       "      <td>From same direction - both going straight - bo...</td>\n",
       "      <td>0</td>\n",
       "      <td>0</td>\n",
       "      <td>N</td>\n",
       "    </tr>\n",
       "    <tr>\n",
       "      <th>2</th>\n",
       "      <td>1</td>\n",
       "      <td>-122.334540</td>\n",
       "      <td>47.607871</td>\n",
       "      <td>3</td>\n",
       "      <td>26700</td>\n",
       "      <td>26700</td>\n",
       "      <td>1482393</td>\n",
       "      <td>Matched</td>\n",
       "      <td>Block</td>\n",
       "      <td>NaN</td>\n",
       "      <td>...</td>\n",
       "      <td>Dry</td>\n",
       "      <td>Daylight</td>\n",
       "      <td>NaN</td>\n",
       "      <td>4323031.0</td>\n",
       "      <td>NaN</td>\n",
       "      <td>32</td>\n",
       "      <td>One parked--one moving</td>\n",
       "      <td>0</td>\n",
       "      <td>0</td>\n",
       "      <td>N</td>\n",
       "    </tr>\n",
       "    <tr>\n",
       "      <th>3</th>\n",
       "      <td>1</td>\n",
       "      <td>-122.334803</td>\n",
       "      <td>47.604803</td>\n",
       "      <td>4</td>\n",
       "      <td>1144</td>\n",
       "      <td>1144</td>\n",
       "      <td>3503937</td>\n",
       "      <td>Matched</td>\n",
       "      <td>Block</td>\n",
       "      <td>NaN</td>\n",
       "      <td>...</td>\n",
       "      <td>Dry</td>\n",
       "      <td>Daylight</td>\n",
       "      <td>NaN</td>\n",
       "      <td>NaN</td>\n",
       "      <td>NaN</td>\n",
       "      <td>23</td>\n",
       "      <td>From same direction - all others</td>\n",
       "      <td>0</td>\n",
       "      <td>0</td>\n",
       "      <td>N</td>\n",
       "    </tr>\n",
       "    <tr>\n",
       "      <th>4</th>\n",
       "      <td>2</td>\n",
       "      <td>-122.306426</td>\n",
       "      <td>47.545739</td>\n",
       "      <td>5</td>\n",
       "      <td>17700</td>\n",
       "      <td>17700</td>\n",
       "      <td>1807429</td>\n",
       "      <td>Matched</td>\n",
       "      <td>Intersection</td>\n",
       "      <td>34387.0</td>\n",
       "      <td>...</td>\n",
       "      <td>Wet</td>\n",
       "      <td>Daylight</td>\n",
       "      <td>NaN</td>\n",
       "      <td>4028032.0</td>\n",
       "      <td>NaN</td>\n",
       "      <td>10</td>\n",
       "      <td>Entering at angle</td>\n",
       "      <td>0</td>\n",
       "      <td>0</td>\n",
       "      <td>N</td>\n",
       "    </tr>\n",
       "  </tbody>\n",
       "</table>\n",
       "<p>5 rows × 38 columns</p>\n",
       "</div>"
      ],
      "text/plain": [
       "   SEVERITYCODE           X          Y  OBJECTID  INCKEY  COLDETKEY REPORTNO  \\\n",
       "0             2 -122.323148  47.703140         1    1307       1307  3502005   \n",
       "1             1 -122.347294  47.647172         2   52200      52200  2607959   \n",
       "2             1 -122.334540  47.607871         3   26700      26700  1482393   \n",
       "3             1 -122.334803  47.604803         4    1144       1144  3503937   \n",
       "4             2 -122.306426  47.545739         5   17700      17700  1807429   \n",
       "\n",
       "    STATUS      ADDRTYPE   INTKEY  ... ROADCOND                LIGHTCOND  \\\n",
       "0  Matched  Intersection  37475.0  ...      Wet                 Daylight   \n",
       "1  Matched         Block      NaN  ...      Wet  Dark - Street Lights On   \n",
       "2  Matched         Block      NaN  ...      Dry                 Daylight   \n",
       "3  Matched         Block      NaN  ...      Dry                 Daylight   \n",
       "4  Matched  Intersection  34387.0  ...      Wet                 Daylight   \n",
       "\n",
       "  PEDROWNOTGRNT  SDOTCOLNUM SPEEDING ST_COLCODE  \\\n",
       "0           NaN         NaN      NaN         10   \n",
       "1           NaN   6354039.0      NaN         11   \n",
       "2           NaN   4323031.0      NaN         32   \n",
       "3           NaN         NaN      NaN         23   \n",
       "4           NaN   4028032.0      NaN         10   \n",
       "\n",
       "                                          ST_COLDESC  SEGLANEKEY  \\\n",
       "0                                  Entering at angle           0   \n",
       "1  From same direction - both going straight - bo...           0   \n",
       "2                             One parked--one moving           0   \n",
       "3                   From same direction - all others           0   \n",
       "4                                  Entering at angle           0   \n",
       "\n",
       "   CROSSWALKKEY  HITPARKEDCAR  \n",
       "0             0             N  \n",
       "1             0             N  \n",
       "2             0             N  \n",
       "3             0             N  \n",
       "4             0             N  \n",
       "\n",
       "[5 rows x 38 columns]"
      ]
     },
     "execution_count": 5,
     "metadata": {},
     "output_type": "execute_result"
    }
   ],
   "source": [
    "df = pd.read_csv('Data-Collisions.csv')\n",
    "df.head()\n"
   ]
  },
  {
   "cell_type": "code",
   "execution_count": 6,
   "metadata": {},
   "outputs": [
    {
     "data": {
      "text/html": [
       "<div>\n",
       "<style scoped>\n",
       "    .dataframe tbody tr th:only-of-type {\n",
       "        vertical-align: middle;\n",
       "    }\n",
       "\n",
       "    .dataframe tbody tr th {\n",
       "        vertical-align: top;\n",
       "    }\n",
       "\n",
       "    .dataframe thead th {\n",
       "        text-align: right;\n",
       "    }\n",
       "</style>\n",
       "<table border=\"1\" class=\"dataframe\">\n",
       "  <thead>\n",
       "    <tr style=\"text-align: right;\">\n",
       "      <th></th>\n",
       "      <th>count</th>\n",
       "      <th>mean</th>\n",
       "      <th>std</th>\n",
       "      <th>min</th>\n",
       "      <th>25%</th>\n",
       "      <th>50%</th>\n",
       "      <th>75%</th>\n",
       "      <th>max</th>\n",
       "    </tr>\n",
       "  </thead>\n",
       "  <tbody>\n",
       "    <tr>\n",
       "      <th>SEVERITYCODE</th>\n",
       "      <td>194673.0</td>\n",
       "      <td>1.298901e+00</td>\n",
       "      <td>4.577776e-01</td>\n",
       "      <td>1.000000e+00</td>\n",
       "      <td>1.000000e+00</td>\n",
       "      <td>1.000000e+00</td>\n",
       "      <td>2.000000e+00</td>\n",
       "      <td>2.000000e+00</td>\n",
       "    </tr>\n",
       "    <tr>\n",
       "      <th>X</th>\n",
       "      <td>189339.0</td>\n",
       "      <td>-1.223305e+02</td>\n",
       "      <td>2.997605e-02</td>\n",
       "      <td>-1.224191e+02</td>\n",
       "      <td>-1.223487e+02</td>\n",
       "      <td>-1.223302e+02</td>\n",
       "      <td>-1.223119e+02</td>\n",
       "      <td>-1.222389e+02</td>\n",
       "    </tr>\n",
       "    <tr>\n",
       "      <th>Y</th>\n",
       "      <td>189339.0</td>\n",
       "      <td>4.761954e+01</td>\n",
       "      <td>5.615664e-02</td>\n",
       "      <td>4.749557e+01</td>\n",
       "      <td>4.757596e+01</td>\n",
       "      <td>4.761537e+01</td>\n",
       "      <td>4.766366e+01</td>\n",
       "      <td>4.773414e+01</td>\n",
       "    </tr>\n",
       "    <tr>\n",
       "      <th>OBJECTID</th>\n",
       "      <td>194673.0</td>\n",
       "      <td>1.084794e+05</td>\n",
       "      <td>6.264972e+04</td>\n",
       "      <td>1.000000e+00</td>\n",
       "      <td>5.426700e+04</td>\n",
       "      <td>1.069120e+05</td>\n",
       "      <td>1.622720e+05</td>\n",
       "      <td>2.195470e+05</td>\n",
       "    </tr>\n",
       "    <tr>\n",
       "      <th>INCKEY</th>\n",
       "      <td>194673.0</td>\n",
       "      <td>1.410915e+05</td>\n",
       "      <td>8.663440e+04</td>\n",
       "      <td>1.001000e+03</td>\n",
       "      <td>7.038300e+04</td>\n",
       "      <td>1.233630e+05</td>\n",
       "      <td>2.033190e+05</td>\n",
       "      <td>3.314540e+05</td>\n",
       "    </tr>\n",
       "    <tr>\n",
       "      <th>COLDETKEY</th>\n",
       "      <td>194673.0</td>\n",
       "      <td>1.412988e+05</td>\n",
       "      <td>8.698654e+04</td>\n",
       "      <td>1.001000e+03</td>\n",
       "      <td>7.038300e+04</td>\n",
       "      <td>1.233630e+05</td>\n",
       "      <td>2.034590e+05</td>\n",
       "      <td>3.329540e+05</td>\n",
       "    </tr>\n",
       "    <tr>\n",
       "      <th>INTKEY</th>\n",
       "      <td>65070.0</td>\n",
       "      <td>3.755845e+04</td>\n",
       "      <td>5.174599e+04</td>\n",
       "      <td>2.380700e+04</td>\n",
       "      <td>2.866700e+04</td>\n",
       "      <td>2.997300e+04</td>\n",
       "      <td>3.397300e+04</td>\n",
       "      <td>7.575800e+05</td>\n",
       "    </tr>\n",
       "    <tr>\n",
       "      <th>SEVERITYCODE.1</th>\n",
       "      <td>194673.0</td>\n",
       "      <td>1.298901e+00</td>\n",
       "      <td>4.577776e-01</td>\n",
       "      <td>1.000000e+00</td>\n",
       "      <td>1.000000e+00</td>\n",
       "      <td>1.000000e+00</td>\n",
       "      <td>2.000000e+00</td>\n",
       "      <td>2.000000e+00</td>\n",
       "    </tr>\n",
       "    <tr>\n",
       "      <th>PERSONCOUNT</th>\n",
       "      <td>194673.0</td>\n",
       "      <td>2.444427e+00</td>\n",
       "      <td>1.345929e+00</td>\n",
       "      <td>0.000000e+00</td>\n",
       "      <td>2.000000e+00</td>\n",
       "      <td>2.000000e+00</td>\n",
       "      <td>3.000000e+00</td>\n",
       "      <td>8.100000e+01</td>\n",
       "    </tr>\n",
       "    <tr>\n",
       "      <th>PEDCOUNT</th>\n",
       "      <td>194673.0</td>\n",
       "      <td>3.713920e-02</td>\n",
       "      <td>1.981499e-01</td>\n",
       "      <td>0.000000e+00</td>\n",
       "      <td>0.000000e+00</td>\n",
       "      <td>0.000000e+00</td>\n",
       "      <td>0.000000e+00</td>\n",
       "      <td>6.000000e+00</td>\n",
       "    </tr>\n",
       "    <tr>\n",
       "      <th>PEDCYLCOUNT</th>\n",
       "      <td>194673.0</td>\n",
       "      <td>2.839120e-02</td>\n",
       "      <td>1.674128e-01</td>\n",
       "      <td>0.000000e+00</td>\n",
       "      <td>0.000000e+00</td>\n",
       "      <td>0.000000e+00</td>\n",
       "      <td>0.000000e+00</td>\n",
       "      <td>2.000000e+00</td>\n",
       "    </tr>\n",
       "    <tr>\n",
       "      <th>VEHCOUNT</th>\n",
       "      <td>194673.0</td>\n",
       "      <td>1.920780e+00</td>\n",
       "      <td>6.310467e-01</td>\n",
       "      <td>0.000000e+00</td>\n",
       "      <td>2.000000e+00</td>\n",
       "      <td>2.000000e+00</td>\n",
       "      <td>2.000000e+00</td>\n",
       "      <td>1.200000e+01</td>\n",
       "    </tr>\n",
       "    <tr>\n",
       "      <th>SDOT_COLCODE</th>\n",
       "      <td>194673.0</td>\n",
       "      <td>1.386777e+01</td>\n",
       "      <td>6.868755e+00</td>\n",
       "      <td>0.000000e+00</td>\n",
       "      <td>1.100000e+01</td>\n",
       "      <td>1.300000e+01</td>\n",
       "      <td>1.400000e+01</td>\n",
       "      <td>6.900000e+01</td>\n",
       "    </tr>\n",
       "    <tr>\n",
       "      <th>SDOTCOLNUM</th>\n",
       "      <td>114936.0</td>\n",
       "      <td>7.972521e+06</td>\n",
       "      <td>2.553533e+06</td>\n",
       "      <td>1.007024e+06</td>\n",
       "      <td>6.040015e+06</td>\n",
       "      <td>8.023022e+06</td>\n",
       "      <td>1.015501e+07</td>\n",
       "      <td>1.307202e+07</td>\n",
       "    </tr>\n",
       "    <tr>\n",
       "      <th>SEGLANEKEY</th>\n",
       "      <td>194673.0</td>\n",
       "      <td>2.694011e+02</td>\n",
       "      <td>3.315776e+03</td>\n",
       "      <td>0.000000e+00</td>\n",
       "      <td>0.000000e+00</td>\n",
       "      <td>0.000000e+00</td>\n",
       "      <td>0.000000e+00</td>\n",
       "      <td>5.252410e+05</td>\n",
       "    </tr>\n",
       "    <tr>\n",
       "      <th>CROSSWALKKEY</th>\n",
       "      <td>194673.0</td>\n",
       "      <td>9.782452e+03</td>\n",
       "      <td>7.226926e+04</td>\n",
       "      <td>0.000000e+00</td>\n",
       "      <td>0.000000e+00</td>\n",
       "      <td>0.000000e+00</td>\n",
       "      <td>0.000000e+00</td>\n",
       "      <td>5.239700e+06</td>\n",
       "    </tr>\n",
       "  </tbody>\n",
       "</table>\n",
       "</div>"
      ],
      "text/plain": [
       "                   count          mean           std           min  \\\n",
       "SEVERITYCODE    194673.0  1.298901e+00  4.577776e-01  1.000000e+00   \n",
       "X               189339.0 -1.223305e+02  2.997605e-02 -1.224191e+02   \n",
       "Y               189339.0  4.761954e+01  5.615664e-02  4.749557e+01   \n",
       "OBJECTID        194673.0  1.084794e+05  6.264972e+04  1.000000e+00   \n",
       "INCKEY          194673.0  1.410915e+05  8.663440e+04  1.001000e+03   \n",
       "COLDETKEY       194673.0  1.412988e+05  8.698654e+04  1.001000e+03   \n",
       "INTKEY           65070.0  3.755845e+04  5.174599e+04  2.380700e+04   \n",
       "SEVERITYCODE.1  194673.0  1.298901e+00  4.577776e-01  1.000000e+00   \n",
       "PERSONCOUNT     194673.0  2.444427e+00  1.345929e+00  0.000000e+00   \n",
       "PEDCOUNT        194673.0  3.713920e-02  1.981499e-01  0.000000e+00   \n",
       "PEDCYLCOUNT     194673.0  2.839120e-02  1.674128e-01  0.000000e+00   \n",
       "VEHCOUNT        194673.0  1.920780e+00  6.310467e-01  0.000000e+00   \n",
       "SDOT_COLCODE    194673.0  1.386777e+01  6.868755e+00  0.000000e+00   \n",
       "SDOTCOLNUM      114936.0  7.972521e+06  2.553533e+06  1.007024e+06   \n",
       "SEGLANEKEY      194673.0  2.694011e+02  3.315776e+03  0.000000e+00   \n",
       "CROSSWALKKEY    194673.0  9.782452e+03  7.226926e+04  0.000000e+00   \n",
       "\n",
       "                         25%           50%           75%           max  \n",
       "SEVERITYCODE    1.000000e+00  1.000000e+00  2.000000e+00  2.000000e+00  \n",
       "X              -1.223487e+02 -1.223302e+02 -1.223119e+02 -1.222389e+02  \n",
       "Y               4.757596e+01  4.761537e+01  4.766366e+01  4.773414e+01  \n",
       "OBJECTID        5.426700e+04  1.069120e+05  1.622720e+05  2.195470e+05  \n",
       "INCKEY          7.038300e+04  1.233630e+05  2.033190e+05  3.314540e+05  \n",
       "COLDETKEY       7.038300e+04  1.233630e+05  2.034590e+05  3.329540e+05  \n",
       "INTKEY          2.866700e+04  2.997300e+04  3.397300e+04  7.575800e+05  \n",
       "SEVERITYCODE.1  1.000000e+00  1.000000e+00  2.000000e+00  2.000000e+00  \n",
       "PERSONCOUNT     2.000000e+00  2.000000e+00  3.000000e+00  8.100000e+01  \n",
       "PEDCOUNT        0.000000e+00  0.000000e+00  0.000000e+00  6.000000e+00  \n",
       "PEDCYLCOUNT     0.000000e+00  0.000000e+00  0.000000e+00  2.000000e+00  \n",
       "VEHCOUNT        2.000000e+00  2.000000e+00  2.000000e+00  1.200000e+01  \n",
       "SDOT_COLCODE    1.100000e+01  1.300000e+01  1.400000e+01  6.900000e+01  \n",
       "SDOTCOLNUM      6.040015e+06  8.023022e+06  1.015501e+07  1.307202e+07  \n",
       "SEGLANEKEY      0.000000e+00  0.000000e+00  0.000000e+00  5.252410e+05  \n",
       "CROSSWALKKEY    0.000000e+00  0.000000e+00  0.000000e+00  5.239700e+06  "
      ]
     },
     "execution_count": 6,
     "metadata": {},
     "output_type": "execute_result"
    }
   ],
   "source": [
    "df.describe().transpose()\n"
   ]
  },
  {
   "cell_type": "code",
   "execution_count": 7,
   "metadata": {},
   "outputs": [
    {
     "name": "stdout",
     "output_type": "stream",
     "text": [
      "<class 'pandas.core.frame.DataFrame'>\n",
      "RangeIndex: 194673 entries, 0 to 194672\n",
      "Data columns (total 38 columns):\n",
      " #   Column          Non-Null Count   Dtype  \n",
      "---  ------          --------------   -----  \n",
      " 0   SEVERITYCODE    194673 non-null  int64  \n",
      " 1   X               189339 non-null  float64\n",
      " 2   Y               189339 non-null  float64\n",
      " 3   OBJECTID        194673 non-null  int64  \n",
      " 4   INCKEY          194673 non-null  int64  \n",
      " 5   COLDETKEY       194673 non-null  int64  \n",
      " 6   REPORTNO        194673 non-null  object \n",
      " 7   STATUS          194673 non-null  object \n",
      " 8   ADDRTYPE        192747 non-null  object \n",
      " 9   INTKEY          65070 non-null   float64\n",
      " 10  LOCATION        191996 non-null  object \n",
      " 11  EXCEPTRSNCODE   84811 non-null   object \n",
      " 12  EXCEPTRSNDESC   5638 non-null    object \n",
      " 13  SEVERITYCODE.1  194673 non-null  int64  \n",
      " 14  SEVERITYDESC    194673 non-null  object \n",
      " 15  COLLISIONTYPE   189769 non-null  object \n",
      " 16  PERSONCOUNT     194673 non-null  int64  \n",
      " 17  PEDCOUNT        194673 non-null  int64  \n",
      " 18  PEDCYLCOUNT     194673 non-null  int64  \n",
      " 19  VEHCOUNT        194673 non-null  int64  \n",
      " 20  INCDATE         194673 non-null  object \n",
      " 21  INCDTTM         194673 non-null  object \n",
      " 22  JUNCTIONTYPE    188344 non-null  object \n",
      " 23  SDOT_COLCODE    194673 non-null  int64  \n",
      " 24  SDOT_COLDESC    194673 non-null  object \n",
      " 25  INATTENTIONIND  29805 non-null   object \n",
      " 26  UNDERINFL       189789 non-null  object \n",
      " 27  WEATHER         189592 non-null  object \n",
      " 28  ROADCOND        189661 non-null  object \n",
      " 29  LIGHTCOND       189503 non-null  object \n",
      " 30  PEDROWNOTGRNT   4667 non-null    object \n",
      " 31  SDOTCOLNUM      114936 non-null  float64\n",
      " 32  SPEEDING        9333 non-null    object \n",
      " 33  ST_COLCODE      194655 non-null  object \n",
      " 34  ST_COLDESC      189769 non-null  object \n",
      " 35  SEGLANEKEY      194673 non-null  int64  \n",
      " 36  CROSSWALKKEY    194673 non-null  int64  \n",
      " 37  HITPARKEDCAR    194673 non-null  object \n",
      "dtypes: float64(4), int64(12), object(22)\n",
      "memory usage: 56.4+ MB\n"
     ]
    }
   ],
   "source": [
    "df.info()\n"
   ]
  },
  {
   "cell_type": "code",
   "execution_count": 8,
   "metadata": {},
   "outputs": [
    {
     "data": {
      "text/plain": [
       "SEVERITYCODE           0\n",
       "X                   5334\n",
       "Y                   5334\n",
       "OBJECTID               0\n",
       "INCKEY                 0\n",
       "COLDETKEY              0\n",
       "REPORTNO               0\n",
       "STATUS                 0\n",
       "ADDRTYPE            1926\n",
       "INTKEY            129603\n",
       "LOCATION            2677\n",
       "EXCEPTRSNCODE     109862\n",
       "EXCEPTRSNDESC     189035\n",
       "SEVERITYCODE.1         0\n",
       "SEVERITYDESC           0\n",
       "COLLISIONTYPE       4904\n",
       "PERSONCOUNT            0\n",
       "PEDCOUNT               0\n",
       "PEDCYLCOUNT            0\n",
       "VEHCOUNT               0\n",
       "INCDATE                0\n",
       "INCDTTM                0\n",
       "JUNCTIONTYPE        6329\n",
       "SDOT_COLCODE           0\n",
       "SDOT_COLDESC           0\n",
       "INATTENTIONIND    164868\n",
       "UNDERINFL           4884\n",
       "WEATHER             5081\n",
       "ROADCOND            5012\n",
       "LIGHTCOND           5170\n",
       "PEDROWNOTGRNT     190006\n",
       "SDOTCOLNUM         79737\n",
       "SPEEDING          185340\n",
       "ST_COLCODE            18\n",
       "ST_COLDESC          4904\n",
       "SEGLANEKEY             0\n",
       "CROSSWALKKEY           0\n",
       "HITPARKEDCAR           0\n",
       "dtype: int64"
      ]
     },
     "execution_count": 8,
     "metadata": {},
     "output_type": "execute_result"
    }
   ],
   "source": [
    "df.isna().sum()\n"
   ]
  },
  {
   "cell_type": "code",
   "execution_count": 9,
   "metadata": {},
   "outputs": [],
   "source": [
    "df_new = df[['SEVERITYCODE', 'UNDERINFL', 'WEATHER', 'ROADCOND', 'LIGHTCOND']]\n"
   ]
  },
  {
   "cell_type": "code",
   "execution_count": 10,
   "metadata": {},
   "outputs": [
    {
     "name": "stderr",
     "output_type": "stream",
     "text": [
      "/home/omars/.local/lib/python3.8/site-packages/pandas/core/frame.py:4162: SettingWithCopyWarning: \n",
      "A value is trying to be set on a copy of a slice from a DataFrame\n",
      "\n",
      "See the caveats in the documentation: https://pandas.pydata.org/pandas-docs/stable/user_guide/indexing.html#returning-a-view-versus-a-copy\n",
      "  return super().drop(\n"
     ]
    }
   ],
   "source": [
    "df_new.drop(df_new[df_new.WEATHER == 'Unknown'].index, inplace = True)\n",
    "df_new.drop(df_new[df_new.ROADCOND == 'Unknown'].index, inplace = True)\n",
    "df_new.drop(df_new[df_new.LIGHTCOND == 'Unknown'].index, inplace = True)\n"
   ]
  },
  {
   "cell_type": "code",
   "execution_count": 11,
   "metadata": {},
   "outputs": [
    {
     "name": "stderr",
     "output_type": "stream",
     "text": [
      "<ipython-input-11-8435a3118ee6>:1: SettingWithCopyWarning: \n",
      "A value is trying to be set on a copy of a slice from a DataFrame\n",
      "\n",
      "See the caveats in the documentation: https://pandas.pydata.org/pandas-docs/stable/user_guide/indexing.html#returning-a-view-versus-a-copy\n",
      "  df_new.dropna(inplace = True)\n"
     ]
    }
   ],
   "source": [
    "df_new.dropna(inplace = True)\n"
   ]
  },
  {
   "cell_type": "code",
   "execution_count": 12,
   "metadata": {},
   "outputs": [
    {
     "data": {
      "text/plain": [
       "SEVERITYCODE    170510\n",
       "UNDERINFL       170510\n",
       "WEATHER         170510\n",
       "ROADCOND        170510\n",
       "LIGHTCOND       170510\n",
       "dtype: int64"
      ]
     },
     "execution_count": 12,
     "metadata": {},
     "output_type": "execute_result"
    }
   ],
   "source": [
    "df_new.isna().count()\n"
   ]
  },
  {
   "cell_type": "code",
   "execution_count": 13,
   "metadata": {},
   "outputs": [
    {
     "data": {
      "text/plain": [
       "1    114659\n",
       "2     55851\n",
       "Name: SEVERITYCODE, dtype: int64"
      ]
     },
     "execution_count": 13,
     "metadata": {},
     "output_type": "execute_result"
    }
   ],
   "source": [
    "df_new['SEVERITYCODE'].value_counts()\n"
   ]
  },
  {
   "cell_type": "code",
   "execution_count": 14,
   "metadata": {},
   "outputs": [
    {
     "data": {
      "text/plain": [
       "2    55851\n",
       "1    55851\n",
       "Name: SEVERITYCODE, dtype: int64"
      ]
     },
     "execution_count": 14,
     "metadata": {},
     "output_type": "execute_result"
    }
   ],
   "source": [
    "sev_1 = df_new.loc[df_new['SEVERITYCODE'] == 1].sample(n=55851, random_state = 0)\n",
    "sev_2 = df_new.loc[df_new['SEVERITYCODE'] == 2]\n",
    "data = sev_1.append(sev_2)\n",
    "data['SEVERITYCODE'].value_counts()\n"
   ]
  },
  {
   "cell_type": "code",
   "execution_count": 15,
   "metadata": {},
   "outputs": [
    {
     "data": {
      "text/html": [
       "<div>\n",
       "<style scoped>\n",
       "    .dataframe tbody tr th:only-of-type {\n",
       "        vertical-align: middle;\n",
       "    }\n",
       "\n",
       "    .dataframe tbody tr th {\n",
       "        vertical-align: top;\n",
       "    }\n",
       "\n",
       "    .dataframe thead th {\n",
       "        text-align: right;\n",
       "    }\n",
       "</style>\n",
       "<table border=\"1\" class=\"dataframe\">\n",
       "  <thead>\n",
       "    <tr style=\"text-align: right;\">\n",
       "      <th></th>\n",
       "      <th>SEVERITYCODE</th>\n",
       "      <th>UNDERINFL</th>\n",
       "      <th>WEATHER</th>\n",
       "      <th>ROADCOND</th>\n",
       "      <th>LIGHTCOND</th>\n",
       "    </tr>\n",
       "  </thead>\n",
       "  <tbody>\n",
       "    <tr>\n",
       "      <th>46827</th>\n",
       "      <td>1</td>\n",
       "      <td>0</td>\n",
       "      <td>Overcast</td>\n",
       "      <td>Wet</td>\n",
       "      <td>Daylight</td>\n",
       "    </tr>\n",
       "    <tr>\n",
       "      <th>110397</th>\n",
       "      <td>1</td>\n",
       "      <td>N</td>\n",
       "      <td>Clear</td>\n",
       "      <td>Dry</td>\n",
       "      <td>Daylight</td>\n",
       "    </tr>\n",
       "    <tr>\n",
       "      <th>144688</th>\n",
       "      <td>1</td>\n",
       "      <td>N</td>\n",
       "      <td>Clear</td>\n",
       "      <td>Dry</td>\n",
       "      <td>Daylight</td>\n",
       "    </tr>\n",
       "    <tr>\n",
       "      <th>35712</th>\n",
       "      <td>1</td>\n",
       "      <td>0</td>\n",
       "      <td>Clear</td>\n",
       "      <td>Dry</td>\n",
       "      <td>Daylight</td>\n",
       "    </tr>\n",
       "    <tr>\n",
       "      <th>168040</th>\n",
       "      <td>1</td>\n",
       "      <td>N</td>\n",
       "      <td>Clear</td>\n",
       "      <td>Dry</td>\n",
       "      <td>Daylight</td>\n",
       "    </tr>\n",
       "  </tbody>\n",
       "</table>\n",
       "</div>"
      ],
      "text/plain": [
       "        SEVERITYCODE UNDERINFL   WEATHER ROADCOND LIGHTCOND\n",
       "46827              1         0  Overcast      Wet  Daylight\n",
       "110397             1         N     Clear      Dry  Daylight\n",
       "144688             1         N     Clear      Dry  Daylight\n",
       "35712              1         0     Clear      Dry  Daylight\n",
       "168040             1         N     Clear      Dry  Daylight"
      ]
     },
     "execution_count": 15,
     "metadata": {},
     "output_type": "execute_result"
    }
   ],
   "source": [
    "data.head()\n"
   ]
  },
  {
   "cell_type": "markdown",
   "metadata": {},
   "source": [
    "Binning some of the attributes\n",
    "The purpose of this is to group together those minor observations within the attributes that will be used in the analysis"
   ]
  },
  {
   "cell_type": "code",
   "execution_count": 16,
   "metadata": {},
   "outputs": [],
   "source": [
    "data.loc[(data['UNDERINFL'] == 'N'),'UNDERINFL'] = 0\n",
    "data.loc[(data['UNDERINFL'] == '0'),'UNDERINFL'] = 0\n",
    "data.loc[(data['UNDERINFL'] == 'Y'),'UNDERINFL'] = 1\n",
    "data.loc[(data['UNDERINFL'] == '1'),'UNDERINFL'] = 1\n",
    "data.loc[(~data['WEATHER'].isin(['Clear', 'Raining', 'Overcast'])),'WEATHER'] = 'Others'\n",
    "data.loc[(~data['ROADCOND'].isin(['Wet', 'Dry'])),'ROADCOND'] = 'Others'\n",
    "data.loc[(~data['LIGHTCOND'].isin(['Daylight', 'Dark - Street Lights On'])),'LIGHTCOND'] = 'Others'"
   ]
  },
  {
   "cell_type": "markdown",
   "metadata": {},
   "source": [
    "Assigning categorical¶\n"
   ]
  },
  {
   "cell_type": "code",
   "execution_count": 18,
   "metadata": {},
   "outputs": [
    {
     "data": {
      "text/html": [
       "<div>\n",
       "<style scoped>\n",
       "    .dataframe tbody tr th:only-of-type {\n",
       "        vertical-align: middle;\n",
       "    }\n",
       "\n",
       "    .dataframe tbody tr th {\n",
       "        vertical-align: top;\n",
       "    }\n",
       "\n",
       "    .dataframe thead th {\n",
       "        text-align: right;\n",
       "    }\n",
       "</style>\n",
       "<table border=\"1\" class=\"dataframe\">\n",
       "  <thead>\n",
       "    <tr style=\"text-align: right;\">\n",
       "      <th></th>\n",
       "      <th>SEVERITYCODE</th>\n",
       "      <th>UNDERINFL</th>\n",
       "      <th>WEATHER</th>\n",
       "      <th>ROADCOND</th>\n",
       "      <th>LIGHTCOND</th>\n",
       "    </tr>\n",
       "  </thead>\n",
       "  <tbody>\n",
       "    <tr>\n",
       "      <th>46827</th>\n",
       "      <td>1</td>\n",
       "      <td>0</td>\n",
       "      <td>2</td>\n",
       "      <td>2</td>\n",
       "      <td>1</td>\n",
       "    </tr>\n",
       "    <tr>\n",
       "      <th>110397</th>\n",
       "      <td>1</td>\n",
       "      <td>0</td>\n",
       "      <td>0</td>\n",
       "      <td>0</td>\n",
       "      <td>1</td>\n",
       "    </tr>\n",
       "    <tr>\n",
       "      <th>144688</th>\n",
       "      <td>1</td>\n",
       "      <td>0</td>\n",
       "      <td>0</td>\n",
       "      <td>0</td>\n",
       "      <td>1</td>\n",
       "    </tr>\n",
       "    <tr>\n",
       "      <th>35712</th>\n",
       "      <td>1</td>\n",
       "      <td>0</td>\n",
       "      <td>0</td>\n",
       "      <td>0</td>\n",
       "      <td>1</td>\n",
       "    </tr>\n",
       "    <tr>\n",
       "      <th>168040</th>\n",
       "      <td>1</td>\n",
       "      <td>0</td>\n",
       "      <td>0</td>\n",
       "      <td>0</td>\n",
       "      <td>1</td>\n",
       "    </tr>\n",
       "  </tbody>\n",
       "</table>\n",
       "</div>"
      ],
      "text/plain": [
       "        SEVERITYCODE  UNDERINFL  WEATHER  ROADCOND  LIGHTCOND\n",
       "46827              1          0        2         2          1\n",
       "110397             1          0        0         0          1\n",
       "144688             1          0        0         0          1\n",
       "35712              1          0        0         0          1\n",
       "168040             1          0        0         0          1"
      ]
     },
     "execution_count": 18,
     "metadata": {},
     "output_type": "execute_result"
    }
   ],
   "source": [
    "label_encoder = preprocessing.LabelEncoder()\n",
    "data['WEATHER'] = label_encoder.fit_transform(data['WEATHER'])\n",
    "data['ROADCOND'] = label_encoder.fit_transform(data['ROADCOND'])\n",
    "data['LIGHTCOND'] = label_encoder.fit_transform(data['LIGHTCOND'])\n",
    "data = data.astype('int64')\n",
    "data.head()\n"
   ]
  },
  {
   "cell_type": "code",
   "execution_count": 19,
   "metadata": {},
   "outputs": [
    {
     "name": "stdout",
     "output_type": "stream",
     "text": [
      "<class 'pandas.core.frame.DataFrame'>\n",
      "Int64Index: 111702 entries, 46827 to 194671\n",
      "Data columns (total 5 columns):\n",
      " #   Column        Non-Null Count   Dtype\n",
      "---  ------        --------------   -----\n",
      " 0   SEVERITYCODE  111702 non-null  int64\n",
      " 1   UNDERINFL     111702 non-null  int64\n",
      " 2   WEATHER       111702 non-null  int64\n",
      " 3   ROADCOND      111702 non-null  int64\n",
      " 4   LIGHTCOND     111702 non-null  int64\n",
      "dtypes: int64(5)\n",
      "memory usage: 5.1 MB\n"
     ]
    }
   ],
   "source": [
    "data.info()\n"
   ]
  },
  {
   "cell_type": "markdown",
   "metadata": {},
   "source": [
    "Data Visuallization\n"
   ]
  },
  {
   "cell_type": "code",
   "execution_count": 20,
   "metadata": {},
   "outputs": [
    {
     "data": {
      "text/plain": [
       "<AxesSubplot:xlabel='UNDERINFL', ylabel='count'>"
      ]
     },
     "execution_count": 20,
     "metadata": {},
     "output_type": "execute_result"
    },
    {
     "data": {
      "image/png": "[encoded data removed]",
      "text/plain": [
       "<Figure size 432x288 with 1 Axes>"
      ]
     },
     "metadata": {
      "needs_background": "light"
     },
     "output_type": "display_data"
    }
   ],
   "source": [
    "sns.countplot(x = 'UNDERINFL', hue = 'SEVERITYCODE', data = data, order = data['UNDERINFL'].value_counts().index)"
   ]
  },
  {
   "cell_type": "code",
   "execution_count": 21,
   "metadata": {},
   "outputs": [
    {
     "data": {
      "text/plain": [
       "<AxesSubplot:xlabel='WEATHER', ylabel='count'>"
      ]
     },
     "execution_count": 21,
     "metadata": {},
     "output_type": "execute_result"
    },
    {
     "data": {
      "image/png": "[encoded data removed]",
      "text/plain": [
       "<Figure size 432x288 with 1 Axes>"
      ]
     },
     "metadata": {
      "needs_background": "light"
     },
     "output_type": "display_data"
    }
   ],
   "source": [
    "sns.countplot(x = 'WEATHER', hue = 'SEVERITYCODE', data = data, order = data['WEATHER'].value_counts().index)"
   ]
  },
  {
   "cell_type": "code",
   "execution_count": 22,
   "metadata": {},
   "outputs": [
    {
     "data": {
      "text/plain": [
       "<AxesSubplot:xlabel='ROADCOND', ylabel='count'>"
      ]
     },
     "execution_count": 22,
     "metadata": {},
     "output_type": "execute_result"
    },
    {
     "data": {
      "image/png": "[encoded data removed]",
      "text/plain": [
       "<Figure size 432x288 with 1 Axes>"
      ]
     },
     "metadata": {
      "needs_background": "light"
     },
     "output_type": "display_data"
    }
   ],
   "source": [
    "sns.countplot(x = 'ROADCOND', hue = 'SEVERITYCODE', data = data, order = data['ROADCOND'].value_counts().index)\n"
   ]
  },
  {
   "cell_type": "code",
   "execution_count": 23,
   "metadata": {},
   "outputs": [
    {
     "data": {
      "text/plain": [
       "<AxesSubplot:xlabel='LIGHTCOND', ylabel='count'>"
      ]
     },
     "execution_count": 23,
     "metadata": {},
     "output_type": "execute_result"
    },
    {
     "data": {
      "image/png": "[encoded data removed]",
      "text/plain": [
       "<Figure size 432x288 with 1 Axes>"
      ]
     },
     "metadata": {
      "needs_background": "light"
     },
     "output_type": "display_data"
    }
   ],
   "source": [
    "sns.countplot(x = 'LIGHTCOND', hue = 'SEVERITYCODE', data = data, order = data['LIGHTCOND'].value_counts().index)\n"
   ]
  },
  {
   "cell_type": "code",
   "execution_count": 24,
   "metadata": {},
   "outputs": [],
   "source": [
    "X = data.drop('SEVERITYCODE', axis = 1)\n",
    "y = data[['SEVERITYCODE']]"
   ]
  },
  {
   "cell_type": "code",
   "execution_count": 25,
   "metadata": {},
   "outputs": [
    {
     "data": {
      "text/plain": [
       "array([[-0.24183825,  0.87673266,  1.6163231 ,  0.38463149],\n",
       "       [-0.24183825, -0.72454911, -0.62847073,  0.38463149],\n",
       "       [-0.24183825, -0.72454911, -0.62847073,  0.38463149],\n",
       "       ...,\n",
       "       [-0.24183825, -0.72454911, -0.62847073,  0.38463149],\n",
       "       [-0.24183825, -0.72454911, -0.62847073,  0.38463149],\n",
       "       [-0.24183825, -0.72454911, -0.62847073,  2.24358386]])"
      ]
     },
     "execution_count": 25,
     "metadata": {},
     "output_type": "execute_result"
    }
   ],
   "source": [
    "\n",
    "from sklearn import preprocessing\n",
    "\n",
    "X = preprocessing.StandardScaler().fit(X).transform(X)\n",
    "X[0:]"
   ]
  },
  {
   "cell_type": "code",
   "execution_count": null,
   "metadata": {},
   "outputs": [],
   "source": [
    "!git add .\n",
    "!git commit -m \"\""
   ]
  }
 ],
 "metadata": {
  "kernelspec": {
   "display_name": "Python 3.8.2 64-bit",
   "language": "python",
   "name": "python38264bitf40e50bd62ba49f590f614c93fb9ed42"
  },
  "language_info": {
   "codemirror_mode": {
    "name": "ipython",
    "version": 3
   },
   "file_extension": ".py",
   "mimetype": "text/x-python",
   "name": "python",
   "nbconvert_exporter": "python",
   "pygments_lexer": "ipython3",
   "version": "3.8.2"
  }
 },
 "nbformat": 4,
 "nbformat_minor": 4
}
